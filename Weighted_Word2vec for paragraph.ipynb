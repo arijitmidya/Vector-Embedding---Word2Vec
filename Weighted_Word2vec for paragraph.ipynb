{
 "cells": [
  {
   "cell_type": "code",
   "execution_count": null,
   "metadata": {
    "colab": {
     "base_uri": "https://localhost:8080/"
    },
    "id": "zXYKxWNJ0SAg",
    "outputId": "8af36df2-0f28-4813-ba62-f4e6f51cbc66"
   },
   "outputs": [
    {
     "name": "stdout",
     "output_type": "stream",
     "text": [
      "Requirement already satisfied: gensim in /usr/local/lib/python3.10/dist-packages (4.3.3)\n",
      "Requirement already satisfied: numpy<2.0,>=1.18.5 in /usr/local/lib/python3.10/dist-packages (from gensim) (1.26.4)\n",
      "Requirement already satisfied: scipy<1.14.0,>=1.7.0 in /usr/local/lib/python3.10/dist-packages (from gensim) (1.13.1)\n",
      "Requirement already satisfied: smart-open>=1.8.1 in /usr/local/lib/python3.10/dist-packages (from gensim) (7.0.4)\n",
      "Requirement already satisfied: wrapt in /usr/local/lib/python3.10/dist-packages (from smart-open>=1.8.1->gensim) (1.16.0)\n"
     ]
    }
   ],
   "source": [
    "!pip install gensim"
   ]
  },
  {
   "cell_type": "code",
   "execution_count": 32,
   "metadata": {
    "colab": {
     "base_uri": "https://localhost:8080/"
    },
    "id": "isY_Q3teWY29",
    "outputId": "34b50394-1d03-4c9b-8302-32f534aa5b31"
   },
   "outputs": [
    {
     "name": "stdout",
     "output_type": "stream",
     "text": [
      "Requirement already satisfied: nltk in /usr/local/lib/python3.10/dist-packages (3.8.1)\n",
      "Requirement already satisfied: click in /usr/local/lib/python3.10/dist-packages (from nltk) (8.1.7)\n",
      "Requirement already satisfied: joblib in /usr/local/lib/python3.10/dist-packages (from nltk) (1.4.2)\n",
      "Requirement already satisfied: regex>=2021.8.3 in /usr/local/lib/python3.10/dist-packages (from nltk) (2024.9.11)\n",
      "Requirement already satisfied: tqdm in /usr/local/lib/python3.10/dist-packages (from nltk) (4.66.5)\n"
     ]
    }
   ],
   "source": [
    "! pip install nltk"
   ]
  },
  {
   "cell_type": "code",
   "execution_count": 36,
   "metadata": {
    "colab": {
     "base_uri": "https://localhost:8080/"
    },
    "id": "TwSVEuE9CIpW",
    "outputId": "d3576a10-4942-4eff-becf-9b1ba986806b"
   },
   "outputs": [
    {
     "name": "stderr",
     "output_type": "stream",
     "text": [
      "[nltk_data] Downloading package stopwords to /root/nltk_data...\n",
      "[nltk_data]   Unzipping corpora/stopwords.zip.\n"
     ]
    },
    {
     "data": {
      "text/plain": [
       "True"
      ]
     },
     "execution_count": 36,
     "metadata": {},
     "output_type": "execute_result"
    }
   ],
   "source": [
    "import numpy as np\n",
    "import nltk\n",
    "from sklearn.feature_extraction.text import TfidfVectorizer\n",
    "from nltk.corpus import stopwords\n",
    "nltk.download('stopwords')"
   ]
  },
  {
   "cell_type": "code",
   "execution_count": 3,
   "metadata": {
    "id": "OAYiltHgDXSu"
   },
   "outputs": [],
   "source": [
    "import gensim.downloader as api\n",
    "\n",
    "wv = api.load('word2vec-google-news-300')"
   ]
  },
  {
   "cell_type": "code",
   "execution_count": 37,
   "metadata": {
    "id": "_mo6g0eWVy1h"
   },
   "outputs": [],
   "source": [
    "# Preprocess the paragraph\n",
    "\n",
    "paragraph1 = \"Classical physics is a branch of physics that describes the behavior of matter and energy on a macroscopic scale. It encompasses the laws of motion, gravity, electricity, magnetism, and thermodynamics. These laws, formulated by scientists like Newton, Einstein, and Maxwell, provide a framework for understanding the world around us, from the motion of planets to the flow of electricity. While classical physics is highly successful in explaining many phenomena, it breaks down at the quantum level, where particles exhibit behaviors that cannot be described by classical mechanics.\"\n",
    "tokens = nltk.word_tokenize(paragraph1)\n",
    "tokens = [word.lower() for word in tokens if word.isalnum()]\n",
    "tokens = [word for word in tokens if word not in stopwords.words('english')]"
   ]
  },
  {
   "cell_type": "code",
   "execution_count": 40,
   "metadata": {
    "colab": {
     "base_uri": "https://localhost:8080/"
    },
    "id": "QXQgFgsOWWl2",
    "outputId": "185709ea-22f4-4f55-eef4-31316a13b184"
   },
   "outputs": [
    {
     "name": "stdout",
     "output_type": "stream",
     "text": [
      "50\n",
      "['classical', 'physics', 'branch', 'physics', 'describes', 'behavior', 'matter', 'energy', 'macroscopic', 'scale', 'encompasses', 'laws', 'motion', 'gravity', 'electricity', 'magnetism', 'thermodynamics', 'laws', 'formulated', 'scientists', 'like', 'newton', 'einstein', 'maxwell', 'provide', 'framework', 'understanding', 'world', 'around', 'us', 'motion', 'planets', 'flow', 'electricity', 'classical', 'physics', 'highly', 'successful', 'explaining', 'many', 'phenomena', 'breaks', 'quantum', 'level', 'particles', 'exhibit', 'behaviors', 'described', 'classical', 'mechanics']\n"
     ]
    }
   ],
   "source": [
    "print(len(tokens))\n",
    "print(tokens)"
   ]
  },
  {
   "cell_type": "code",
   "execution_count": 41,
   "metadata": {
    "id": "BOLAiT-OW6MZ"
   },
   "outputs": [],
   "source": [
    "# Calculate TF-IDF weights\n",
    "\n",
    "tfidf_vectorizer = TfidfVectorizer()\n",
    "tfidf_matrix = tfidf_vectorizer.fit_transform([paragraph1])\n",
    "word_weights = dict(zip(tfidf_vectorizer.get_feature_names_out(), tfidf_matrix.toarray()[0]))"
   ]
  },
  {
   "cell_type": "code",
   "execution_count": 42,
   "metadata": {
    "colab": {
     "base_uri": "https://localhost:8080/"
    },
    "id": "gtIVh_cRXKBr",
    "outputId": "69d68e57-e384-4044-b4b6-6038432f3d4e"
   },
   "outputs": [
    {
     "data": {
      "text/plain": [
       "{'and': 0.23284515771189984,\n",
       " 'around': 0.07761505257063328,\n",
       " 'at': 0.07761505257063328,\n",
       " 'be': 0.07761505257063328,\n",
       " 'behavior': 0.07761505257063328,\n",
       " 'behaviors': 0.07761505257063328,\n",
       " 'branch': 0.07761505257063328,\n",
       " 'breaks': 0.07761505257063328,\n",
       " 'by': 0.15523010514126656,\n",
       " 'cannot': 0.07761505257063328,\n",
       " 'classical': 0.23284515771189984,\n",
       " 'described': 0.07761505257063328,\n",
       " 'describes': 0.07761505257063328,\n",
       " 'down': 0.07761505257063328,\n",
       " 'einstein': 0.07761505257063328,\n",
       " 'electricity': 0.15523010514126656,\n",
       " 'encompasses': 0.07761505257063328,\n",
       " 'energy': 0.07761505257063328,\n",
       " 'exhibit': 0.07761505257063328,\n",
       " 'explaining': 0.07761505257063328,\n",
       " 'flow': 0.07761505257063328,\n",
       " 'for': 0.07761505257063328,\n",
       " 'formulated': 0.07761505257063328,\n",
       " 'framework': 0.07761505257063328,\n",
       " 'from': 0.07761505257063328,\n",
       " 'gravity': 0.07761505257063328,\n",
       " 'highly': 0.07761505257063328,\n",
       " 'in': 0.07761505257063328,\n",
       " 'is': 0.15523010514126656,\n",
       " 'it': 0.15523010514126656,\n",
       " 'laws': 0.15523010514126656,\n",
       " 'level': 0.07761505257063328,\n",
       " 'like': 0.07761505257063328,\n",
       " 'macroscopic': 0.07761505257063328,\n",
       " 'magnetism': 0.07761505257063328,\n",
       " 'many': 0.07761505257063328,\n",
       " 'matter': 0.07761505257063328,\n",
       " 'maxwell': 0.07761505257063328,\n",
       " 'mechanics': 0.07761505257063328,\n",
       " 'motion': 0.15523010514126656,\n",
       " 'newton': 0.07761505257063328,\n",
       " 'of': 0.3880752628531664,\n",
       " 'on': 0.07761505257063328,\n",
       " 'particles': 0.07761505257063328,\n",
       " 'phenomena': 0.07761505257063328,\n",
       " 'physics': 0.23284515771189984,\n",
       " 'planets': 0.07761505257063328,\n",
       " 'provide': 0.07761505257063328,\n",
       " 'quantum': 0.07761505257063328,\n",
       " 'scale': 0.07761505257063328,\n",
       " 'scientists': 0.07761505257063328,\n",
       " 'successful': 0.07761505257063328,\n",
       " 'that': 0.15523010514126656,\n",
       " 'the': 0.4656903154237997,\n",
       " 'thermodynamics': 0.07761505257063328,\n",
       " 'these': 0.07761505257063328,\n",
       " 'to': 0.07761505257063328,\n",
       " 'understanding': 0.07761505257063328,\n",
       " 'us': 0.07761505257063328,\n",
       " 'where': 0.07761505257063328,\n",
       " 'while': 0.07761505257063328,\n",
       " 'world': 0.07761505257063328}"
      ]
     },
     "execution_count": 42,
     "metadata": {},
     "output_type": "execute_result"
    }
   ],
   "source": [
    "word_weights"
   ]
  },
  {
   "cell_type": "code",
   "execution_count": 44,
   "metadata": {
    "colab": {
     "base_uri": "https://localhost:8080/"
    },
    "id": "gdil3y6xXMQF",
    "outputId": "a0a8a09a-ffe0-48ed-ebff-5691d9b0e2a5"
   },
   "outputs": [
    {
     "name": "stdout",
     "output_type": "stream",
     "text": [
      "[ 8.52363351e-03 -9.38330142e-04  1.20504191e-02  3.31032896e-03\n",
      " -1.00057508e-02  2.97431600e-03  1.47202606e-02 -1.92056279e-02\n",
      "  7.76718990e-04  4.04464657e-03 -4.03292495e-03 -7.40602193e-03\n",
      " -7.50034064e-03  6.70509928e-04 -1.55343562e-02  1.47597453e-02\n",
      "  3.36943200e-03  1.20986679e-02  6.76862559e-03 -7.77608430e-03\n",
      " -1.74860081e-03  1.80638336e-03 -2.11396086e-03  2.42774438e-03\n",
      " -1.99383621e-03 -5.12161520e-03 -4.42643603e-03  2.25113961e-03\n",
      " -8.94382750e-03 -1.02784518e-02 -1.09290182e-02 -1.14631425e-02\n",
      " -6.63427737e-04  4.64344951e-03 -4.26660263e-04 -3.83243262e-03\n",
      "  2.23704628e-03  5.06686464e-03  9.05768702e-03  7.03822234e-03\n",
      "  5.95732469e-03  1.21453527e-03  8.09349164e-03  1.32747132e-02\n",
      " -2.75485117e-03  8.74779916e-04 -9.42919988e-04 -4.00849253e-03\n",
      " -6.66348234e-03 -1.95103359e-04 -8.32090290e-03 -4.49668942e-03\n",
      " -4.88021695e-03 -3.39408928e-03  7.39536337e-03  9.10934668e-03\n",
      " -4.13765338e-03 -1.18637715e-02 -5.09090594e-03 -1.85169330e-02\n",
      "  1.71109556e-04  1.15323541e-03  9.33865200e-04 -1.23244449e-02\n",
      "  9.10190844e-04 -2.62253997e-03 -4.82327521e-03  1.83526627e-02\n",
      " -2.04160825e-03  3.20128925e-03 -4.62416872e-03 -9.70349225e-03\n",
      "  1.49457295e-02 -7.02870066e-03 -1.58922790e-02 -7.62298828e-03\n",
      "  9.05697640e-03  8.64772570e-03  2.31708228e-03 -1.32792610e-02\n",
      "  3.89918060e-03  9.95384698e-03  1.05559360e-02 -5.49094278e-03\n",
      " -1.63818732e-03  1.10401637e-04 -1.30473254e-02  1.88890849e-02\n",
      " -5.74334346e-03  8.87647862e-03 -1.45297289e-03 -8.85713544e-03\n",
      " -1.60862688e-02  3.53351237e-03 -3.28059081e-03  4.76093356e-04\n",
      "  9.60789475e-03 -1.59010425e-02  9.95717198e-03 -6.60841175e-03\n",
      "  3.64801766e-03 -3.80689896e-03 -4.34457648e-03 -4.35769859e-03\n",
      "  3.47140712e-03 -3.63981631e-03  7.86951535e-04 -5.66716751e-04\n",
      "  3.95898840e-03 -9.06308755e-03 -7.89015714e-03  6.11379624e-03\n",
      " -3.09834897e-03  6.95727473e-03  1.72523425e-02  8.22859815e-04\n",
      " -6.90115009e-03 -2.01299843e-03  1.01433930e-02 -3.39028161e-03\n",
      " -1.08860984e-02 -2.47270079e-03  3.16976874e-03 -1.12741740e-03\n",
      " -5.60605693e-04  3.76099505e-03 -4.26869752e-03 -1.04442091e-03\n",
      " -5.99479626e-03  3.04246719e-03  2.63987813e-03 -1.27666910e-02\n",
      " -4.09497107e-03 -1.35508990e-04  7.29820240e-03  6.81663760e-03\n",
      "  6.82015498e-03 -2.43882950e-03 -5.64824926e-03  1.67139545e-02\n",
      "  9.34900394e-03 -3.57728454e-03 -4.66061585e-03  1.52573931e-02\n",
      " -2.56031608e-03  1.04473229e-02 -8.20491118e-04  1.57333457e-03\n",
      " -6.30096464e-03  1.84961061e-03  1.19684410e-02 -8.20734982e-03\n",
      " -1.22065587e-02  9.73428439e-03  2.87091366e-03 -8.81187144e-03\n",
      "  3.32663692e-03 -4.54896506e-03 -2.99204547e-04 -9.70480679e-03\n",
      " -5.52632987e-03  1.16143098e-03  1.84923167e-03  5.78225380e-03\n",
      "  3.95181233e-04  3.16507306e-03  7.35163869e-03 -6.36215810e-03\n",
      " -4.02519125e-03  8.00878941e-04 -6.84143713e-03 -2.67398628e-03\n",
      " -9.38083813e-03  7.10231730e-03  1.10958403e-02 -9.58804544e-03\n",
      "  6.37093378e-03 -1.39949640e-02 -6.11655847e-03 -3.28599122e-03\n",
      " -5.78989859e-03  2.58786913e-03  6.93059202e-04 -7.82025887e-03\n",
      "  1.05127089e-02  7.74132432e-03  7.42426035e-03 -1.01741841e-03\n",
      "  2.14443315e-03  7.69248376e-03 -1.75695016e-03  9.13541328e-03\n",
      "  1.45063973e-03  1.66331859e-03 -2.80710313e-03  3.75748945e-03\n",
      "  2.40344204e-03 -1.07522714e-02  2.57782021e-03 -9.03582464e-03\n",
      "  4.62127891e-03  1.05660738e-02 -5.95614033e-03  2.38615129e-03\n",
      " -5.72948698e-03  1.62961280e-04  4.06391822e-03 -1.06441792e-02\n",
      " -1.51963298e-02  5.48080520e-03 -9.17685246e-03  2.18038902e-03\n",
      "  1.11750231e-02  1.94094467e-03 -6.17201678e-03  4.98112036e-03\n",
      "  7.26205736e-03  9.21443064e-03 -9.40154015e-03 -6.47174265e-03\n",
      "  5.98387703e-03 -7.48592165e-03  9.26941850e-03 -4.78893022e-03\n",
      " -4.98443648e-03 -6.42231806e-03  9.05164711e-03 -2.38379443e-03\n",
      "  7.40680389e-03  1.01897234e-02  4.48766486e-03  6.01985654e-03\n",
      " -3.69344195e-03  4.19412154e-03  7.57085490e-03  4.11320351e-03\n",
      "  1.09257494e-03 -1.15417333e-02  9.81775461e-03  4.40320005e-03\n",
      "  1.46044587e-03  4.75619596e-04 -4.11221429e-03 -3.77506469e-03\n",
      " -8.53249200e-04 -5.51902293e-03 -5.68984078e-03  1.18300422e-02\n",
      " -5.13233441e-04 -1.07328604e-02  3.44885763e-03 -4.65482110e-04\n",
      "  3.60648958e-03  1.17357415e-02  5.49179558e-03 -1.41902762e-02\n",
      " -2.76406494e-03 -6.46226780e-03 -1.45660867e-03 -1.85316344e-03\n",
      "  8.12778911e-03 -1.35040907e-02 -1.30644506e-02 -4.97525803e-03\n",
      "  4.65121844e-03  1.72024353e-02  1.01726690e-02 -1.52907787e-02\n",
      " -1.16468293e-02 -3.22011992e-03 -1.47283364e-03 -2.79498822e-05\n",
      " -4.63307469e-03  6.06568933e-03  4.63397480e-03 -4.36182013e-03\n",
      " -1.21950488e-02 -8.74694761e-03 -6.27273062e-03  1.05507945e-03\n",
      " -2.67711291e-03  1.56867294e-02  7.51725267e-03  5.43798029e-03\n",
      "  6.70801267e-03 -2.94860450e-03  1.54249494e-03  1.28159118e-03\n",
      "  2.96712714e-03  1.65508035e-02 -2.16604809e-02  1.42368466e-03\n",
      " -1.45818854e-02  1.03129857e-04 -1.56918348e-06  1.47285738e-03\n",
      "  4.72708551e-03  1.39534418e-03  1.20054388e-02 -5.83534031e-04]\n",
      "300\n"
     ]
    }
   ],
   "source": [
    "# Calculate weighted average\n",
    "\n",
    "weighted_vector = np.zeros((300,))\n",
    "count = 0\n",
    "for word in tokens:\n",
    "    if word in wv and word in word_weights:\n",
    "        count += 1\n",
    "        weighted_vector += wv[word] * word_weights[word]\n",
    "\n",
    "if count > 0:\n",
    "    weighted_vector /= count\n",
    "else:\n",
    "    # Handle cases where no words are found in the Word2Vec vocabulary\n",
    "    weighted_vector = None\n",
    "\n",
    "print(weighted_vector)\n",
    "print(len(weighted_vector))"
   ]
  },
  {
   "cell_type": "code",
   "execution_count": null,
   "metadata": {
    "id": "ZnLwxqAaXh4K"
   },
   "outputs": [],
   "source": []
  }
 ],
 "metadata": {
  "colab": {
   "provenance": []
  },
  "kernelspec": {
   "display_name": "Python 3 (ipykernel)",
   "language": "python",
   "name": "python3"
  },
  "language_info": {
   "codemirror_mode": {
    "name": "ipython",
    "version": 3
   },
   "file_extension": ".py",
   "mimetype": "text/x-python",
   "name": "python",
   "nbconvert_exporter": "python",
   "pygments_lexer": "ipython3",
   "version": "3.11.7"
  }
 },
 "nbformat": 4,
 "nbformat_minor": 4
}
