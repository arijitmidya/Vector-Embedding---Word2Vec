{
 "cells": [
  {
   "cell_type": "code",
   "execution_count": null,
   "metadata": {
    "colab": {
     "base_uri": "https://localhost:8080/"
    },
    "id": "zXYKxWNJ0SAg",
    "outputId": "8af36df2-0f28-4813-ba62-f4e6f51cbc66"
   },
   "outputs": [
    {
     "name": "stdout",
     "output_type": "stream",
     "text": [
      "Requirement already satisfied: gensim in /usr/local/lib/python3.10/dist-packages (4.3.3)\n",
      "Requirement already satisfied: numpy<2.0,>=1.18.5 in /usr/local/lib/python3.10/dist-packages (from gensim) (1.26.4)\n",
      "Requirement already satisfied: scipy<1.14.0,>=1.7.0 in /usr/local/lib/python3.10/dist-packages (from gensim) (1.13.1)\n",
      "Requirement already satisfied: smart-open>=1.8.1 in /usr/local/lib/python3.10/dist-packages (from gensim) (7.0.4)\n",
      "Requirement already satisfied: wrapt in /usr/local/lib/python3.10/dist-packages (from smart-open>=1.8.1->gensim) (1.16.0)\n"
     ]
    }
   ],
   "source": [
    "!pip install gensim"
   ]
  },
  {
   "cell_type": "code",
   "execution_count": null,
   "metadata": {
    "id": "TwSVEuE9CIpW"
   },
   "outputs": [],
   "source": [
    "import gensim"
   ]
  },
  {
   "cell_type": "code",
   "execution_count": null,
   "metadata": {
    "id": "RJ4EF2a2DS-X"
   },
   "outputs": [],
   "source": [
    "from gensim.models import Word2Vec, KeyedVectors\n",
    "from sklearn.metrics.pairwise import cosine_similarity"
   ]
  },
  {
   "cell_type": "code",
   "execution_count": null,
   "metadata": {
    "colab": {
     "base_uri": "https://localhost:8080/"
    },
    "id": "OAYiltHgDXSu",
    "outputId": "d8ebebd8-8fd0-49dd-c4ae-c37c3aa7ad93"
   },
   "outputs": [
    {
     "name": "stdout",
     "output_type": "stream",
     "text": [
      "[==================================================] 100.0% 1662.8/1662.8MB downloaded\n"
     ]
    }
   ],
   "source": [
    "import gensim.downloader as api\n",
    "\n",
    "wv = api.load('word2vec-google-news-300')"
   ]
  },
  {
   "cell_type": "markdown",
   "metadata": {
    "id": "219j7liF4lxS"
   },
   "source": [
    "Finding analogies"
   ]
  },
  {
   "cell_type": "code",
   "execution_count": 44,
   "metadata": {
    "colab": {
     "base_uri": "https://localhost:8080/"
    },
    "id": "xWI-ivQnyLVS",
    "outputId": "9907b50c-36e5-432a-e048-771a685b5e3e"
   },
   "outputs": [
    {
     "name": "stdout",
     "output_type": "stream",
     "text": [
      "[('queen', 0.7118193507194519)]\n"
     ]
    }
   ],
   "source": [
    "result = wv.most_similar(positive = ['woman','king'], negative = ['man'],topn = 1)\n",
    "print(result)"
   ]
  },
  {
   "cell_type": "code",
   "execution_count": 46,
   "metadata": {
    "colab": {
     "base_uri": "https://localhost:8080/"
    },
    "id": "sse7P34g-hEl",
    "outputId": "9af74db1-286f-4ff7-e7b1-dd51de2c8c0e"
   },
   "outputs": [
    {
     "name": "stdout",
     "output_type": "stream",
     "text": [
      "[('satisfied', 0.4446863830089569), ('confident', 0.41786038875579834), ('comfortable', 0.3753730356693268), ('pleased', 0.347391277551651), ('ready', 0.3456537127494812)]\n"
     ]
    }
   ],
   "source": [
    "result = wv.most_similar(positive=['happy'], negative=['sad'], topn=5)\n",
    "print(result)"
   ]
  },
  {
   "cell_type": "code",
   "execution_count": 48,
   "metadata": {
    "colab": {
     "base_uri": "https://localhost:8080/"
    },
    "id": "Y3Q90wzqBjMP",
    "outputId": "09f77c33-4b04-4d70-f524-bd9282c613a9"
   },
   "outputs": [
    {
     "name": "stdout",
     "output_type": "stream",
     "text": [
      "[('fruit', 0.7347875237464905), ('mangoes', 0.7227838039398193), ('pear', 0.7217497825622559), ('strawberry', 0.6964336037635803), ('guava', 0.6918423771858215)]\n"
     ]
    }
   ],
   "source": [
    "result = wv.most_similar(positive=['apple', 'mango'], topn=5)\n",
    "print(result)"
   ]
  },
  {
   "cell_type": "code",
   "execution_count": 49,
   "metadata": {
    "colab": {
     "base_uri": "https://localhost:8080/"
    },
    "id": "AnVv_InRBr06",
    "outputId": "9df6be7d-131a-4c49-c189-3d7c39f9f874"
   },
   "outputs": [
    {
     "name": "stdout",
     "output_type": "stream",
     "text": [
      "[('cats', 0.766990602016449), ('puppy', 0.7512805461883545), ('dogs', 0.7441987991333008), ('pup', 0.7337830066680908), ('beagle', 0.7337754964828491)]\n"
     ]
    }
   ],
   "source": [
    "result = wv.most_similar(positive=['cat', 'dog', 'bird'], topn=5)\n",
    "print(result)"
   ]
  },
  {
   "cell_type": "code",
   "execution_count": 50,
   "metadata": {
    "colab": {
     "base_uri": "https://localhost:8080/"
    },
    "id": "GLZ7oMW7B3st",
    "outputId": "770cee1f-de59-4dd6-cfda-107eddd516af"
   },
   "outputs": [
    {
     "name": "stdout",
     "output_type": "stream",
     "text": [
      "[('joyous', 0.6939305663108826), ('cheery', 0.6601589918136597), ('pleasant', 0.6196651458740234), ('Besnik_Berisha_Pristina', 0.618526041507721), ('jovial', 0.6155939698219299)]\n"
     ]
    }
   ],
   "source": [
    "result = wv.most_similar(positive=['happy', 'joyful', 'cheerful'], topn=5)\n",
    "print(result)"
   ]
  },
  {
   "cell_type": "code",
   "execution_count": 51,
   "metadata": {
    "colab": {
     "base_uri": "https://localhost:8080/"
    },
    "id": "bA-IVwhSCDFM",
    "outputId": "74a4c080-3f8a-4fc4-ad25-51cf23fad0f5"
   },
   "outputs": [
    {
     "name": "stdout",
     "output_type": "stream",
     "text": [
      "[('blue_sky', 0.5672512650489807)]\n"
     ]
    }
   ],
   "source": [
    "result = wv.most_similar(positive=['blue', 'sky'], negative=['red'], topn=1)\n",
    "print(result)"
   ]
  },
  {
   "cell_type": "code",
   "execution_count": 52,
   "metadata": {
    "colab": {
     "base_uri": "https://localhost:8080/"
    },
    "id": "LkZXZaGxCU-V",
    "outputId": "6ead5af4-ab47-443b-e2fd-d03192376e85"
   },
   "outputs": [
    {
     "name": "stdout",
     "output_type": "stream",
     "text": [
      "[('teas', 0.6899858117103577), ('herbal_tea', 0.6685076951980591), ('o_joe', 0.6663716435432434), ('coffees', 0.6543347835540771), ('caramel_latte', 0.640658438205719)]\n"
     ]
    }
   ],
   "source": [
    "result = wv.most_similar(positive=['chocolate', 'coffee', 'tea'], topn=5)\n",
    "print(result)"
   ]
  },
  {
   "cell_type": "code",
   "execution_count": 55,
   "metadata": {
    "colab": {
     "base_uri": "https://localhost:8080/"
    },
    "id": "TsPumGMSCcx5",
    "outputId": "4e900da4-237f-4fe3-de56-3dc847f20046"
   },
   "outputs": [
    {
     "name": "stdout",
     "output_type": "stream",
     "text": [
      "[('books', 0.5941891670227051), ('novels', 0.5451412796974182), ('reread', 0.5252678990364075)]\n"
     ]
    }
   ],
   "source": [
    "result = wv.most_similar(positive=['book', 'read'], negative=['page'], topn=3)\n",
    "print(result)"
   ]
  },
  {
   "cell_type": "code",
   "execution_count": 59,
   "metadata": {
    "colab": {
     "base_uri": "https://localhost:8080/"
    },
    "id": "5ue8aziLClM5",
    "outputId": "0e357870-6217-4956-f9a2-d46dc1c5792a"
   },
   "outputs": [
    {
     "name": "stdout",
     "output_type": "stream",
     "text": [
      "[('means', 0.4480975270271301), ('meanings', 0.41558974981307983), ('mean', 0.385240375995636), ('connotation', 0.3821730315685272), ('mitzvot_commandments', 0.3794197142124176)]\n"
     ]
    }
   ],
   "source": [
    "result = wv.most_similar(positive=['life', 'meaning'], negative=['death'], topn=5)\n",
    "print(result)"
   ]
  },
  {
   "cell_type": "code",
   "execution_count": null,
   "metadata": {
    "id": "y8gYH4gXCyBN"
   },
   "outputs": [],
   "source": []
  }
 ],
 "metadata": {
  "colab": {
   "provenance": []
  },
  "kernelspec": {
   "display_name": "Python 3 (ipykernel)",
   "language": "python",
   "name": "python3"
  },
  "language_info": {
   "codemirror_mode": {
    "name": "ipython",
    "version": 3
   },
   "file_extension": ".py",
   "mimetype": "text/x-python",
   "name": "python",
   "nbconvert_exporter": "python",
   "pygments_lexer": "ipython3",
   "version": "3.11.7"
  }
 },
 "nbformat": 4,
 "nbformat_minor": 4
}
