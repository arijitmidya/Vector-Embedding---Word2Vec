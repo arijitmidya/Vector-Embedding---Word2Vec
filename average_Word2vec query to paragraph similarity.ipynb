{
 "cells": [
  {
   "cell_type": "code",
   "execution_count": null,
   "metadata": {
    "colab": {
     "base_uri": "https://localhost:8080/"
    },
    "id": "zXYKxWNJ0SAg",
    "outputId": "8af36df2-0f28-4813-ba62-f4e6f51cbc66"
   },
   "outputs": [
    {
     "name": "stdout",
     "output_type": "stream",
     "text": [
      "Requirement already satisfied: gensim in /usr/local/lib/python3.10/dist-packages (4.3.3)\n",
      "Requirement already satisfied: numpy<2.0,>=1.18.5 in /usr/local/lib/python3.10/dist-packages (from gensim) (1.26.4)\n",
      "Requirement already satisfied: scipy<1.14.0,>=1.7.0 in /usr/local/lib/python3.10/dist-packages (from gensim) (1.13.1)\n",
      "Requirement already satisfied: smart-open>=1.8.1 in /usr/local/lib/python3.10/dist-packages (from gensim) (7.0.4)\n",
      "Requirement already satisfied: wrapt in /usr/local/lib/python3.10/dist-packages (from smart-open>=1.8.1->gensim) (1.16.0)\n"
     ]
    }
   ],
   "source": [
    "!pip install gensim"
   ]
  },
  {
   "cell_type": "code",
   "execution_count": 84,
   "metadata": {
    "id": "TwSVEuE9CIpW"
   },
   "outputs": [],
   "source": [
    "import gensim\n",
    "import numpy as np\n",
    "from nltk.tokenize import word_tokenize\n",
    "from sklearn.metrics.pairwise import cosine_similarity\n",
    "from gensim.models import Word2Vec\n"
   ]
  },
  {
   "cell_type": "code",
   "execution_count": null,
   "metadata": {
    "colab": {
     "base_uri": "https://localhost:8080/"
    },
    "id": "OAYiltHgDXSu",
    "outputId": "d8ebebd8-8fd0-49dd-c4ae-c37c3aa7ad93"
   },
   "outputs": [
    {
     "name": "stdout",
     "output_type": "stream",
     "text": [
      "[==================================================] 100.0% 1662.8/1662.8MB downloaded\n"
     ]
    }
   ],
   "source": [
    "import gensim.downloader as api\n",
    "\n",
    "wv = api.load('word2vec-google-news-300')"
   ]
  },
  {
   "cell_type": "markdown",
   "metadata": {
    "id": "219j7liF4lxS"
   },
   "source": [
    "Finding analogies"
   ]
  },
  {
   "cell_type": "code",
   "execution_count": 71,
   "metadata": {
    "id": "VsNGRfAvJoxg"
   },
   "outputs": [],
   "source": [
    "def calculate_average_vector(paragraph, wv):\n",
    "\n",
    "  \"\"\"Calculates the average Word2Vec vector for a paragraph.\n",
    "\n",
    "  Args:\n",
    "    paragraph: The paragraph to process.\n",
    "    wv: The Word2Vec model.\n",
    "\n",
    "  Returns:\n",
    "    The average Word2Vec vector for the paragraph.\n",
    "  \"\"\"\n",
    "\n",
    "  sent_vectors = []\n",
    "  for sentence in paragraph.split('.'):\n",
    "    sent_vector = np.zeros((300,))\n",
    "    count = 0\n",
    "    for word in sentence.split():\n",
    "      if word in wv:\n",
    "        count += 1\n",
    "        sent_vector += wv[word]\n",
    "    if count > 0:\n",
    "      sent_vectors.append(sent_vector / count)\n",
    "\n",
    "  if sent_vectors:\n",
    "    return sum(sent_vectors) / len(sent_vectors)\n",
    "  else:\n",
    "    return None  # Handle cases where no words in the paragraph are found in the vocabulary"
   ]
  },
  {
   "cell_type": "code",
   "execution_count": 85,
   "metadata": {
    "id": "7cvFo6DuONIE"
   },
   "outputs": [],
   "source": [
    "# Create a list of paragraphs\n",
    "\n",
    "paragraphs = [\n",
    "\n",
    "\"Classical physics is a branch of physics that describes the behavior of matter and energy on a macroscopic scale. It encompasses the laws of motion, gravity, electricity, magnetism, and thermodynamics. These laws, formulated by scientists like Newton, Einstein, and Maxwell, provide a framework for understanding the world around us, from the motion of planets to the flow of electricity. While classical physics is highly successful in explaining many phenomena, it breaks down at the quantum level, where particles exhibit behaviors that cannot be described by classical mechanics.\",\n",
    "\"Quantum physics is a branch of physics that deals with the behavior of matter and energy at the atomic and subatomic level. It introduces concepts that defy classical intuition, such as wave-particle duality, superposition, and quantum entanglement. These principles explain phenomena like the photoelectric effect, black-body radiation, and the behavior of electrons in atoms. Quantum physics has led to groundbreaking technologies like lasers, transistors, and quantum computers, revolutionizing our understanding of the universe and its applications.\",\n",
    "\"Nietzsche's On the Genealogy of Morals is a philosophical exploration of the origins and development of moral concepts. Nietzsche argues that traditional morality is a product of historical circumstances, power dynamics, and human psychology. He criticizes the prevailing moral systems as oppressive and harmful, rooted in concepts like guilt, resentment, and herd mentality. Instead, Nietzsche proposes a new morality based on self-overcoming, creativity, and the affirmation of life. The book delves into the historical roots of morality, tracing its evolution from the slave morality of the weak to the master morality of the strong. Nietzsche ultimately challenges readers to question the prevailing moral values and forge their own paths to meaning and fulfillment.\",\n",
    "\"Albert Camus's The Myth of Sisyphus is a philosophical essay that explores the absurdity of human existence. The central figure, Sisyphus, is condemned to eternally roll a boulder up a hill, only for it to roll back down, forcing him to repeat the task endlessly. Camus argues that this futile labor mirrors the human condition, filled with meaningless tasks and the inevitable absurdity of death. However, he suggests that Sisyphus can find meaning and defiance in his suffering by acknowledging the absurdity of his situation and choosing to rebel against it. Camus proposes that the essence of human existence lies in this constant struggle against the absurd, and it is through this defiance that we can find a sense of purpose and dignity.\",\n",
    "\"Football is a team sport played between two teams of eleven players on a rectangular field. The objective of the game is to score more goals than the opposing team by kicking the ball into the net. Players use their feet, head, and chest to control the ball, passing it to teammates and attempting to dribble past opponents. The game is known for its physicality, strategy, and teamwork, making it one of the most popular sports worldwide.\",\n",
    "\"Cricket is a bat-and-ball game played between two teams of eleven players on a field with a 22-yard (20-meter) pitch at the center. The objective is to score more runs than the opposing team. One team bats while the other fields. The batting team tries to hit the ball bowled by the fielding team with the bat, scoring runs by running between wickets or hitting the ball to the boundary. The fielding team tries to dismiss the batting team by catching the ball or bowling the batsman out. The game is often played over multiple days, with each team taking turns to bat and field.\",\n",
    "# feel free to add more paragraphs here\n",
    "]\n"
   ]
  },
  {
   "cell_type": "code",
   "execution_count": 86,
   "metadata": {
    "colab": {
     "base_uri": "https://localhost:8080/"
    },
    "id": "PQTxjHgGPiU6",
    "outputId": "59c28027-f6ce-4bab-f1e6-a377641072ad"
   },
   "outputs": [
    {
     "name": "stdout",
     "output_type": "stream",
     "text": [
      "6\n",
      "(300,)\n",
      "[ 9.61197102e-03  1.09775772e-02  1.18761485e-01  3.30625704e-02\n",
      " -1.03038250e-01 -3.17664966e-03  1.01022409e-01 -1.32280054e-01\n",
      "  4.62385929e-02  5.17516366e-02 -4.31814896e-02 -7.51176048e-02\n",
      " -3.75535979e-02  2.41843864e-02 -1.05576640e-01  1.11946612e-01\n",
      "  2.98005915e-02  1.04677806e-01  1.82065276e-02 -4.58878418e-02\n",
      " -3.19171414e-02  6.40440853e-03 -2.72235082e-02  1.39520609e-02\n",
      "  2.98616525e-02 -5.69975820e-02 -7.35180673e-02  3.85824297e-02\n",
      " -3.62074102e-02 -2.87001063e-02 -4.41128512e-02 -9.82893242e-02\n",
      " -1.96955681e-02  4.94313733e-02  1.49613634e-02  6.48684129e-03\n",
      " -2.49305670e-02  5.36598086e-03  8.37838133e-02  7.65732840e-02\n",
      "  7.42497816e-02  3.02027114e-02  2.80729048e-02  6.91543014e-02\n",
      " -2.04754999e-02 -1.68439310e-02 -3.33419843e-02 -8.32023819e-03\n",
      " -2.08962704e-02  1.56743440e-02 -4.21941926e-02 -6.89315002e-03\n",
      " -2.68291864e-02 -5.13979238e-02  6.19067614e-02  9.48549360e-02\n",
      " -1.93802690e-02 -1.02461578e-01  3.92619233e-03 -1.12163644e-01\n",
      " -4.78616435e-02  3.74935097e-02 -2.79465802e-02 -1.33591126e-01\n",
      " -3.10501465e-02 -3.97379006e-02 -2.20370270e-02  1.40068257e-01\n",
      " -3.08869061e-02 -4.05752911e-03 -3.26127140e-03 -6.20094796e-02\n",
      "  1.36918446e-01 -5.24743561e-02 -1.04367676e-01 -9.54232447e-02\n",
      "  9.11713992e-02  9.04690376e-02  4.80579312e-03  3.27399215e-02\n",
      "  3.53378855e-02 -9.90142232e-03  4.41820715e-02 -3.32132129e-02\n",
      " -1.53375483e-02 -3.32660986e-02 -8.49065795e-02  1.48833816e-01\n",
      " -3.88759315e-02  3.51296300e-02  2.52117794e-02 -5.93520977e-02\n",
      " -7.84713374e-02 -2.60702990e-02 -3.24988961e-02 -7.28091653e-03\n",
      "  4.56720122e-02 -9.70864346e-02  4.88752748e-02  5.69751358e-03\n",
      "  2.10448823e-02 -3.65181044e-02 -2.40990978e-02  7.12922572e-05\n",
      "  1.88050014e-03 -6.11885323e-02 -2.64749574e-02 -3.05911416e-02\n",
      " -2.30768860e-02 -7.38322314e-02 -6.00717418e-02  2.88646510e-02\n",
      " -3.27560787e-02  4.62510150e-02  1.45917810e-01  2.95958555e-02\n",
      " -3.70282846e-02  1.57651263e-02  9.60573248e-02  1.14567074e-02\n",
      " -1.17758841e-01 -2.40238289e-02 -3.55644779e-02  1.10000209e-02\n",
      " -6.45187316e-03  1.63800034e-03 -4.17970876e-02 -1.53107177e-02\n",
      " -1.07490706e-02  3.30113506e-02  1.92906988e-02 -8.79980404e-02\n",
      " -4.99540134e-02 -3.08269375e-02  2.30089151e-02  3.47858471e-03\n",
      "  4.03016698e-02 -3.13844768e-02 -5.45964991e-02  6.24081203e-02\n",
      "  9.83774903e-02 -1.47030126e-02 -3.66648319e-02  6.66935591e-02\n",
      " -2.16370573e-02  3.47889141e-02 -3.14291315e-02 -3.44811335e-02\n",
      " -3.80089082e-02  2.70043183e-02  9.46559855e-02 -3.57377921e-02\n",
      " -8.18063706e-02  8.43435741e-02  3.24621246e-02 -4.27494318e-02\n",
      "  1.54356701e-02 -5.08989633e-02  4.24465568e-03 -5.58924848e-02\n",
      " -2.28697486e-02  1.92430908e-02  1.20913707e-02  4.04476789e-02\n",
      "  7.14477143e-03  3.64215057e-02  4.68893038e-02 -2.84054589e-02\n",
      " -1.73813502e-02 -1.04973673e-03 -9.82279498e-02 -2.26249046e-02\n",
      " -4.05107638e-02 -1.44184404e-02  4.77607480e-02 -4.89493344e-02\n",
      "  3.56265466e-02 -1.12596962e-01 -3.91499367e-02 -3.47372111e-02\n",
      " -7.83477007e-02  1.40645947e-03 -5.86765923e-03 -3.00364649e-02\n",
      "  3.96124794e-02  2.88494024e-02  2.24121377e-02  2.78742687e-02\n",
      "  5.44740305e-02  7.83668765e-02  6.35564968e-03  3.58397248e-02\n",
      "  4.48580590e-02  4.68996532e-03 -9.12921983e-02  1.40461250e-02\n",
      " -3.26191242e-02 -6.07931368e-02  4.50423215e-03 -1.41106555e-01\n",
      "  4.86758195e-02  4.34954765e-02 -4.10636180e-02  4.59039449e-02\n",
      " -6.29779266e-02  4.79216168e-02 -5.60895427e-03 -3.66796253e-02\n",
      " -5.75512210e-02  1.36357684e-02 -7.73264786e-02  2.44855123e-02\n",
      "  7.21324380e-02  4.87315379e-02 -4.77160752e-02  7.08179392e-02\n",
      "  9.53342722e-02  5.71457039e-02 -7.81198178e-02 -4.37153805e-03\n",
      "  4.49641266e-02 -5.83449857e-02  6.40336087e-02 -5.54200909e-02\n",
      " -5.50693624e-03 -6.79911592e-02  9.02967022e-02  1.61190583e-02\n",
      "  5.64296109e-02  6.83736001e-02  6.47107792e-02  3.22317870e-03\n",
      "  3.04052536e-03  1.98682877e-02  4.52590845e-02  9.87111451e-03\n",
      " -9.04762506e-03 -4.46006475e-02  6.86244631e-02  4.57699546e-02\n",
      "  3.22347763e-02 -1.32255647e-02 -1.10322007e-02 -6.77788571e-02\n",
      " -2.62044418e-03 -3.16800616e-02 -1.19343356e-02  9.31645532e-02\n",
      " -8.61015251e-03 -4.92160673e-02  1.36940411e-02 -7.18968459e-03\n",
      "  4.23793206e-02  5.90292803e-02  4.51264337e-02 -9.93945376e-02\n",
      " -1.31179698e-02 -2.72660634e-02 -2.23198458e-02 -2.92425091e-02\n",
      "  5.77188482e-02 -8.13447009e-02 -8.37299473e-02 -5.52986922e-04\n",
      "  5.15768057e-02  1.47764181e-01  5.78518361e-02 -7.80349102e-02\n",
      " -1.09716877e-01 -1.64105717e-02  3.77455734e-03  5.04434951e-02\n",
      "  7.31392105e-03  6.95957486e-02  2.39373251e-02 -6.04211691e-02\n",
      " -5.34551069e-02 -9.37348515e-02 -3.94970662e-02 -3.47937364e-02\n",
      " -1.49312365e-02  5.88822761e-02  5.26288886e-02  8.05683566e-02\n",
      "  6.63977664e-02 -2.29352837e-02 -5.04040362e-02 -4.14194523e-02\n",
      "  2.19949448e-02  8.94261216e-02 -1.39967950e-01 -5.16606392e-03\n",
      " -7.74928257e-02  1.93879401e-02 -2.42736560e-02  3.98527866e-04\n",
      "  5.20775459e-02  2.33630980e-03  9.97184514e-02 -2.14546014e-02]\n"
     ]
    }
   ],
   "source": [
    "# Calculate average Word2Vec vectors for all paragraphs\n",
    "\n",
    "paragraph_vectors = [calculate_average_vector(paragraph, wv) for paragraph in paragraphs]\n",
    "print(len(paragraph_vectors))\n",
    "print(paragraph_vectors[0].shape)\n",
    "print(paragraph_vectors[0])\n"
   ]
  },
  {
   "cell_type": "code",
   "execution_count": 90,
   "metadata": {
    "id": "bpno_-rHTlnG"
   },
   "outputs": [],
   "source": [
    "# Function to find the most similar paragraphs to a query\n",
    "\n",
    "def find_similar_paragraphs(query, paragraph_vectors, top_n=3):\n",
    "    query_vector = calculate_average_vector(query, wv)\n",
    "    similarities = cosine_similarity([query_vector], paragraph_vectors)[0]\n",
    "    top_indices = similarities.argsort()[-top_n:][::-1]\n",
    "    return [paragraphs[i] for i in top_indices]"
   ]
  },
  {
   "cell_type": "code",
   "execution_count": 92,
   "metadata": {
    "colab": {
     "base_uri": "https://localhost:8080/"
    },
    "id": "SWKUyW5qaKwF",
    "outputId": "e38dcc54-f180-4fd6-a15e-b305d68a0f2c"
   },
   "outputs": [
    {
     "name": "stdout",
     "output_type": "stream",
     "text": [
      "['Quantum physics is a branch of physics that deals with the behavior of matter and energy at the atomic and subatomic level. It introduces concepts that defy classical intuition, such as wave-particle duality, superposition, and quantum entanglement. These principles explain phenomena like the photoelectric effect, black-body radiation, and the behavior of electrons in atoms. Quantum physics has led to groundbreaking technologies like lasers, transistors, and quantum computers, revolutionizing our understanding of the universe and its applications.', 'Classical physics is a branch of physics that describes the behavior of matter and energy on a macroscopic scale. It encompasses the laws of motion, gravity, electricity, magnetism, and thermodynamics. These laws, formulated by scientists like Newton, Einstein, and Maxwell, provide a framework for understanding the world around us, from the motion of planets to the flow of electricity. While classical physics is highly successful in explaining many phenomena, it breaks down at the quantum level, where particles exhibit behaviors that cannot be described by classical mechanics.', \"Albert Camus's The Myth of Sisyphus is a philosophical essay that explores the absurdity of human existence. The central figure, Sisyphus, is condemned to eternally roll a boulder up a hill, only for it to roll back down, forcing him to repeat the task endlessly. Camus argues that this futile labor mirrors the human condition, filled with meaningless tasks and the inevitable absurdity of death. However, he suggests that Sisyphus can find meaning and defiance in his suffering by acknowledging the absurdity of his situation and choosing to rebel against it. Camus proposes that the essence of human existence lies in this constant struggle against the absurd, and it is through this defiance that we can find a sense of purpose and dignity.\", \"Nietzsche's On the Genealogy of Morals is a philosophical exploration of the origins and development of moral concepts. Nietzsche argues that traditional morality is a product of historical circumstances, power dynamics, and human psychology. He criticizes the prevailing moral systems as oppressive and harmful, rooted in concepts like guilt, resentment, and herd mentality. Instead, Nietzsche proposes a new morality based on self-overcoming, creativity, and the affirmation of life. The book delves into the historical roots of morality, tracing its evolution from the slave morality of the weak to the master morality of the strong. Nietzsche ultimately challenges readers to question the prevailing moral values and forge their own paths to meaning and fulfillment.\"]\n"
     ]
    }
   ],
   "source": [
    "# Most  Similar paragraphs to the query below\n",
    "\n",
    "query = \"what is quantum physics ?\"\n",
    "similar_paragraphs = find_similar_paragraphs(query, paragraph_vectors, 4)\n",
    "print(similar_paragraphs)"
   ]
  },
  {
   "cell_type": "code",
   "execution_count": 95,
   "metadata": {
    "colab": {
     "base_uri": "https://localhost:8080/"
    },
    "id": "E1zdsUCjafB_",
    "outputId": "045fa374-c936-43f5-b8b9-e016edf3b0b0"
   },
   "outputs": [
    {
     "name": "stdout",
     "output_type": "stream",
     "text": [
      "['Quantum physics is a branch of physics that deals with the behavior of matter and energy at the atomic and subatomic level. It introduces concepts that defy classical intuition, such as wave-particle duality, superposition, and quantum entanglement. These principles explain phenomena like the photoelectric effect, black-body radiation, and the behavior of electrons in atoms. Quantum physics has led to groundbreaking technologies like lasers, transistors, and quantum computers, revolutionizing our understanding of the universe and its applications.', 'Classical physics is a branch of physics that describes the behavior of matter and energy on a macroscopic scale. It encompasses the laws of motion, gravity, electricity, magnetism, and thermodynamics. These laws, formulated by scientists like Newton, Einstein, and Maxwell, provide a framework for understanding the world around us, from the motion of planets to the flow of electricity. While classical physics is highly successful in explaining many phenomena, it breaks down at the quantum level, where particles exhibit behaviors that cannot be described by classical mechanics.']\n"
     ]
    }
   ],
   "source": [
    "# Most Similar paragraphs to the query below\n",
    "\n",
    "query = \"Explain physics in general ?\"\n",
    "similar_paragraphs = find_similar_paragraphs(query, paragraph_vectors, 2)\n",
    "print(similar_paragraphs)"
   ]
  },
  {
   "cell_type": "code",
   "execution_count": 97,
   "metadata": {
    "colab": {
     "base_uri": "https://localhost:8080/"
    },
    "id": "UooVGY2JcVrp",
    "outputId": "33aa1858-8fde-4302-cc5e-8404e91b3a2a"
   },
   "outputs": [
    {
     "name": "stdout",
     "output_type": "stream",
     "text": [
      "['Football is a team sport played between two teams of eleven players on a rectangular field. The objective of the game is to score more goals than the opposing team by kicking the ball into the net. Players use their feet, head, and chest to control the ball, passing it to teammates and attempting to dribble past opponents. The game is known for its physicality, strategy, and teamwork, making it one of the most popular sports worldwide.']\n"
     ]
    }
   ],
   "source": [
    "# Most Similar paragraphs to the query below\n",
    "\n",
    "query = \"Explain sports in general ?\"\n",
    "similar_paragraphs = find_similar_paragraphs(query, paragraph_vectors, 1)\n",
    "print(similar_paragraphs)"
   ]
  },
  {
   "cell_type": "code",
   "execution_count": 100,
   "metadata": {
    "colab": {
     "base_uri": "https://localhost:8080/"
    },
    "id": "dXCSgfz4cuQI",
    "outputId": "7fa50a42-cb3f-4c07-9a8c-e974706c79d8"
   },
   "outputs": [
    {
     "name": "stdout",
     "output_type": "stream",
     "text": [
      "[\"Nietzsche's On the Genealogy of Morals is a philosophical exploration of the origins and development of moral concepts. Nietzsche argues that traditional morality is a product of historical circumstances, power dynamics, and human psychology. He criticizes the prevailing moral systems as oppressive and harmful, rooted in concepts like guilt, resentment, and herd mentality. Instead, Nietzsche proposes a new morality based on self-overcoming, creativity, and the affirmation of life. The book delves into the historical roots of morality, tracing its evolution from the slave morality of the weak to the master morality of the strong. Nietzsche ultimately challenges readers to question the prevailing moral values and forge their own paths to meaning and fulfillment.\"]\n"
     ]
    }
   ],
   "source": [
    "# Most Similar paragraphs to the query below\n",
    "\n",
    "query = \"Explain philosophy in general ?\"\n",
    "similar_paragraphs = find_similar_paragraphs(query, paragraph_vectors, 1)\n",
    "print(similar_paragraphs)"
   ]
  },
  {
   "cell_type": "code",
   "execution_count": 103,
   "metadata": {
    "colab": {
     "base_uri": "https://localhost:8080/"
    },
    "id": "uxWjrMboc_Jq",
    "outputId": "ba7643d5-d603-4456-b7de-32705955d299"
   },
   "outputs": [
    {
     "name": "stdout",
     "output_type": "stream",
     "text": [
      "[\"Albert Camus's The Myth of Sisyphus is a philosophical essay that explores the absurdity of human existence. The central figure, Sisyphus, is condemned to eternally roll a boulder up a hill, only for it to roll back down, forcing him to repeat the task endlessly. Camus argues that this futile labor mirrors the human condition, filled with meaningless tasks and the inevitable absurdity of death. However, he suggests that Sisyphus can find meaning and defiance in his suffering by acknowledging the absurdity of his situation and choosing to rebel against it. Camus proposes that the essence of human existence lies in this constant struggle against the absurd, and it is through this defiance that we can find a sense of purpose and dignity.\"]\n"
     ]
    }
   ],
   "source": [
    "# Most Similar paragraphs to the query below\n",
    "\n",
    "query = \"Explain the Myth of Sysiphus ?\"\n",
    "similar_paragraphs = find_similar_paragraphs(query, paragraph_vectors, 1)\n",
    "print(similar_paragraphs)"
   ]
  },
  {
   "cell_type": "code",
   "execution_count": 105,
   "metadata": {
    "colab": {
     "base_uri": "https://localhost:8080/"
    },
    "id": "Vat3P7U3dUzD",
    "outputId": "8c3eae09-32d1-46b7-a107-21bdb503f17d"
   },
   "outputs": [
    {
     "name": "stdout",
     "output_type": "stream",
     "text": [
      "['Cricket is a bat-and-ball game played between two teams of eleven players on a field with a 22-yard (20-meter) pitch at the center. The objective is to score more runs than the opposing team. One team bats while the other fields. The batting team tries to hit the ball bowled by the fielding team with the bat, scoring runs by running between wickets or hitting the ball to the boundary. The fielding team tries to dismiss the batting team by catching the ball or bowling the batsman out. The game is often played over multiple days, with each team taking turns to bat and field.']\n"
     ]
    }
   ],
   "source": [
    "# Most Similar paragraphs to the query below\n",
    "\n",
    "query = \"Explain cricket ?\"\n",
    "similar_paragraphs = find_similar_paragraphs(query, paragraph_vectors, 1)\n",
    "print(similar_paragraphs)"
   ]
  },
  {
   "cell_type": "code",
   "execution_count": null,
   "metadata": {
    "id": "FLviZYnmdiz3"
   },
   "outputs": [],
   "source": []
  }
 ],
 "metadata": {
  "colab": {
   "provenance": []
  },
  "kernelspec": {
   "display_name": "Python 3 (ipykernel)",
   "language": "python",
   "name": "python3"
  },
  "language_info": {
   "codemirror_mode": {
    "name": "ipython",
    "version": 3
   },
   "file_extension": ".py",
   "mimetype": "text/x-python",
   "name": "python",
   "nbconvert_exporter": "python",
   "pygments_lexer": "ipython3",
   "version": "3.11.7"
  }
 },
 "nbformat": 4,
 "nbformat_minor": 4
}
